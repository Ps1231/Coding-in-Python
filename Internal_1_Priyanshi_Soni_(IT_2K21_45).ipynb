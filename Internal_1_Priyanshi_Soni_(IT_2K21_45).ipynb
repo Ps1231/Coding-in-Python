{
  "nbformat": 4,
  "nbformat_minor": 0,
  "metadata": {
    "colab": {
      "provenance": [],
      "toc_visible": true,
      "authorship_tag": "ABX9TyPtEJ9CKSAfI3sxUnd4NSEE",
      "include_colab_link": true
    },
    "kernelspec": {
      "name": "python3",
      "display_name": "Python 3"
    },
    "language_info": {
      "name": "python"
    }
  },
  "cells": [
    {
      "cell_type": "markdown",
      "metadata": {
        "id": "view-in-github",
        "colab_type": "text"
      },
      "source": [
        "<a href=\"https://colab.research.google.com/github/Ps1231/Coding-in-Python/blob/main/Internal_1_Priyanshi_Soni_(IT_2K21_45).ipynb\" target=\"_parent\"><img src=\"https://colab.research.google.com/assets/colab-badge.svg\" alt=\"Open In Colab\"/></a>"
      ]
    },
    {
      "cell_type": "code",
      "source": [
        "print(\"Lab Internal I\")\n",
        "print(\"Priyanshi soni\")\n",
        "print(\"IT-2K21-45\")\n",
        "print(\"Integrated MTech - IT, 4th Semester\")\n",
        "print(\"PYTHON LAB INTERNAL EXERCISE\")"
      ],
      "metadata": {
        "colab": {
          "base_uri": "https://localhost:8080/"
        },
        "id": "Nd9nAULg2r4h",
        "outputId": "db2fae0b-254b-4d03-a408-8513c65fa7dc"
      },
      "execution_count": 92,
      "outputs": [
        {
          "output_type": "stream",
          "name": "stdout",
          "text": [
            "Lab Internal I\n",
            "Priyanshi soni\n",
            "IT-2K21-45\n",
            "Integrated MTech - IT, 4th Semester\n",
            "PYTHON LAB INTERNAL EXERCISE\n"
          ]
        }
      ]
    },
    {
      "cell_type": "code",
      "source": [
        "from google.colab import drive\n",
        "drive.mount('/content/drive')"
      ],
      "metadata": {
        "colab": {
          "base_uri": "https://localhost:8080/"
        },
        "id": "p5kr8J1Wmptb",
        "outputId": "56d112e6-8bc2-4bc1-f346-8cc3f4beaf3c"
      },
      "execution_count": null,
      "outputs": [
        {
          "output_type": "stream",
          "name": "stdout",
          "text": [
            "Drive already mounted at /content/drive; to attempt to forcibly remount, call drive.mount(\"/content/drive\", force_remount=True).\n"
          ]
        }
      ]
    },
    {
      "cell_type": "code",
      "execution_count": 11,
      "metadata": {
        "id": "7Na_zBVPlN77",
        "colab": {
          "base_uri": "https://localhost:8080/"
        },
        "outputId": "25d59729-b26b-406a-a1f3-d2c82aa9a9d3"
      },
      "outputs": [
        {
          "output_type": "stream",
          "name": "stdout",
          "text": [
            "Enter Frst no. : 22\n",
            "Enter Another no. : 33\n",
            "\n",
            "Arithemetic Operators : \n",
            "\n",
            "Sum:  55.0\n",
            "Product:  726.0\n",
            "Difference:  -11.0\n",
            "Division:  0.6666666666666666\n",
            "Remainder:  22.0\n",
            "Exponenttiation:  1.9950255735593596e+44\n",
            "Floor Division:  0.0\n",
            "\n",
            "Comparision Operators : \n",
            "\n",
            "Equal?  False\n",
            "Greater number:  False\n",
            "Lesser number  True\n",
            "num1 Greater than or Equal to num2 ?  False\n",
            "num1 Less than or Equal to num2 ?  True\n",
            "num1 not Equal to num2 ?  True\n",
            "\n",
            "Logical Operators : \n",
            "\n",
            "num1 > num2 and num1==num2 ?  False\n",
            "num1<num2 or num1>num2 ?  True\n",
            "not(num1<=num2 and num1>=num2) ?  True\n"
          ]
        }
      ],
      "source": [
        "# Implementation of all arithmetic logical and relational operators in python\n",
        "\n",
        "num1 = float(input('Enter Frst no. : '))\n",
        "num2 = float(input('Enter Another no. : '))\n",
        "print()\n",
        "print('Arithemetic Operators : ')\n",
        "print()\n",
        "print (\"Sum: \",num1+num2)\n",
        "print (\"Product: \",num1*num2) \n",
        "print (\"Difference: \",num1-num2)\n",
        "print (\"Division: \",num1 / num2)\n",
        "print (\"Remainder: \",num1%num2)\n",
        "print (\"Exponenttiation: \",num1**num2)\n",
        "print (\"Floor Division: \",num1//num2)\n",
        "print()\n",
        "print('Comparision Operators : ')\n",
        "print()\n",
        "print (\"Equal? \",num1==num2)\n",
        "print (\"Greater number: \",num1>num2)\n",
        "print (\"Lesser number \",num1<num2)\n",
        "print (\"num1 Greater than or Equal to num2 ? \",num1>=num2)\n",
        "print (\"num1 Less than or Equal to num2 ? \",num1<=num2)\n",
        "print (\"num1 not Equal to num2 ? \",num1!=num2)\n",
        "print()\n",
        "print('Logical Operators : ')\n",
        "print()\n",
        "print(\"num1 > num2 and num1==num2 ? \",num1 > num2 and num1==num2)\n",
        "print(\"num1<num2 or num1>num2 ? \",num1<num2 or num1>num2)\n",
        "print(\"not(num1<=num2 and num1>=num2) ? \",not(num1<=num2 and num1>=num2))"
      ]
    },
    {
      "cell_type": "code",
      "source": [
        "# Checking given number to be even or odd\n",
        "\n",
        "a = int(input(\"Enter a number: \"))  \n",
        "if (a % 2) == 0:  \n",
        "   print(\"{0} is Even number\".format(a))  \n",
        "else:  \n",
        "   print(\"{0} is Odd number\".format(a))  "
      ],
      "metadata": {
        "colab": {
          "base_uri": "https://localhost:8080/"
        },
        "id": "38fHg1pGTxZw",
        "outputId": "c31383b6-885f-43e5-c855-864378e31bc8"
      },
      "execution_count": 10,
      "outputs": [
        {
          "output_type": "stream",
          "name": "stdout",
          "text": [
            "Enter a number: 22\n",
            "22 is Even number\n"
          ]
        }
      ]
    },
    {
      "cell_type": "code",
      "source": [
        "#  Finding the greatest of two numbers in python\n",
        "\n",
        "num1 = int(input(\"Enter the first number: \"))\n",
        "num2 = int(input(\"Enter the second number: \"))\n",
        "if (num1 > num2) :\n",
        "   largest = num1\n",
        "else :\n",
        "  largest = num2\n",
        "print(\"The largest number is\", largest)"
      ],
      "metadata": {
        "colab": {
          "base_uri": "https://localhost:8080/"
        },
        "id": "aQVMKp0UUsJR",
        "outputId": "ccf98046-5b82-4a78-905b-afe745c1afb9"
      },
      "execution_count": 13,
      "outputs": [
        {
          "output_type": "stream",
          "name": "stdout",
          "text": [
            "Enter the first number: 22\n",
            "Enter the second number: 33\n",
            "The largest number is 33\n"
          ]
        }
      ]
    },
    {
      "cell_type": "code",
      "source": [
        "#  Finding the greatest of three numbers in python\n",
        "\n",
        "num1 = int(input(\"Enter the first number: \"))\n",
        "num2 = int(input(\"Enter the second number: \"))\n",
        "num3 = int(input(\"Enter the third number: \"))\n",
        "if (num1 >= num2) and (num1 >= num3):\n",
        "   largest = num1\n",
        "elif (num2 >= num1) and (num2 >= num3):\n",
        "   largest = num2\n",
        "else:\n",
        "   largest = num3\n",
        "\n",
        "print(\"The largest number is\", largest)"
      ],
      "metadata": {
        "colab": {
          "base_uri": "https://localhost:8080/"
        },
        "id": "4en8Yr2bXU0C",
        "outputId": "d111a0cf-c6f5-4a8a-a635-b7c3e8abba44"
      },
      "execution_count": 14,
      "outputs": [
        {
          "output_type": "stream",
          "name": "stdout",
          "text": [
            "Enter the first number: 22\n",
            "Enter the second number: 33\n",
            "Enter the third number: 11\n",
            "The largest number is 33\n"
          ]
        }
      ]
    },
    {
      "cell_type": "code",
      "source": [
        "# Checking if the number is prime\n",
        "\n",
        "flag=0\n",
        "num1 = int(input(\"Enter the number: \"))\n",
        "\n",
        "if num1 >= 1:\n",
        "\tfor i in range(2, int(num1/2)+1):\n",
        "\t\tif (num1 % i) == 0:\n",
        "\t\t\tflag+=1\n",
        "\telse:\n",
        "\t\tflag=0\n",
        "\n",
        "\n",
        "# If the number is less than 1, its also not a prime number.\n",
        "else:\n",
        "\tflag=0\n",
        "\n",
        "\n",
        "if (flag>0):\n",
        "  print(num1 ,\"is a composite number\")\n",
        "else:\n",
        "  print(num1 ,\"is a prime number\")"
      ],
      "metadata": {
        "colab": {
          "base_uri": "https://localhost:8080/"
        },
        "id": "ode3G7UvW40G",
        "outputId": "3f826141-0efd-413e-8ecb-c4046c6db6d0"
      },
      "execution_count": 22,
      "outputs": [
        {
          "output_type": "stream",
          "name": "stdout",
          "text": [
            "Enter the number: 13\n",
            "13 is a prime number\n"
          ]
        }
      ]
    },
    {
      "cell_type": "code",
      "source": [
        "# Printing all odd and even numbers in the given range\n",
        "\n",
        "a=int(input(\"Enter the lower limit for the range:\"))\n",
        "b=int(input(\"Enter the upper limit for the range:\"))\n",
        "print(\"Odd numbers in given range: \")\n",
        "for i in range(a,b+1):\n",
        "    if(i%2!=0):\n",
        "        print(i)\n",
        "print(\"Even numbers in given range: \")\n",
        "for i in range(a,b+1):\n",
        "    if(i%2==0):\n",
        "        print(i)"
      ],
      "metadata": {
        "colab": {
          "base_uri": "https://localhost:8080/"
        },
        "id": "4Iv272sPaD_l",
        "outputId": "cc0a96f8-4e25-4dc3-8455-9b946eddf249"
      },
      "execution_count": 25,
      "outputs": [
        {
          "output_type": "stream",
          "name": "stdout",
          "text": [
            "Enter the lower limit for the range:1\n",
            "Enter the upper limit for the range:10\n",
            "Odd numbers in given range: \n",
            "1\n",
            "3\n",
            "5\n",
            "7\n",
            "9\n",
            "Even numbers in given range: \n",
            "2\n",
            "4\n",
            "6\n",
            "8\n",
            "10\n"
          ]
        }
      ]
    },
    {
      "cell_type": "code",
      "source": [
        "# Printing all prime numbers in the given range\n",
        "\n",
        "a=int(input(\"Enter the lower limit for the range:\"))\n",
        "b=int(input(\"Enter the upper limit for the range:\"))\n",
        "print(\"Prime numbers in given range: \")\n",
        "\n",
        "for number in range (a,b + 1):  \n",
        "    if number > 1:  \n",
        "        for i in range (2, number):  \n",
        "            if (number % i) == 0:  \n",
        "                break  \n",
        "        else:  \n",
        "            print (number)  "
      ],
      "metadata": {
        "colab": {
          "base_uri": "https://localhost:8080/"
        },
        "id": "D4U4xlGca-Md",
        "outputId": "17c7cd7f-25b3-40df-bbd7-96bf2bdbb7ed"
      },
      "execution_count": 26,
      "outputs": [
        {
          "output_type": "stream",
          "name": "stdout",
          "text": [
            "Enter the lower limit for the range:1\n",
            "Enter the upper limit for the range:10\n",
            "Prime numbers in given range: \n",
            "2\n",
            "3\n",
            "5\n",
            "7\n"
          ]
        }
      ]
    },
    {
      "cell_type": "code",
      "source": [
        "# Finding reverse of a number\n",
        "\n",
        "num1=int(input(\"Enter the number to be reversed :\"))\n",
        "rev=0\n",
        "while num1 != 0:\n",
        "    rem = num1 % 10\n",
        "    rev= ((rev * 10)+ rem)\n",
        "    num1 //= 10\n",
        "\n",
        "print(\"Reversed Number: \" + str(rev))"
      ],
      "metadata": {
        "colab": {
          "base_uri": "https://localhost:8080/"
        },
        "id": "V0oprAWxbyNX",
        "outputId": "95493a15-390b-4d2b-d562-da582b8b2aa6"
      },
      "execution_count": 28,
      "outputs": [
        {
          "output_type": "stream",
          "name": "stdout",
          "text": [
            "Enter the number to be reversed :1121\n",
            "Reversed Number: 1211\n"
          ]
        }
      ]
    },
    {
      "cell_type": "code",
      "source": [
        "# Finding if a number is palindrome\n",
        "\n",
        "a=int(input(\"Enter the number to be reversed :\"))\n",
        "num1=a\n",
        "rev=0\n",
        "while num1 != 0:\n",
        "    rem = num1 % 10\n",
        "    rev= ((rev * 10)+ rem)\n",
        "    num1 //= 10\n",
        "if (a==rev):\n",
        "  print(a,\"is a Palindrome number\" )\n",
        "else:\n",
        "  print(a,\"is not a Palindrome number\" )\n",
        "\n"
      ],
      "metadata": {
        "colab": {
          "base_uri": "https://localhost:8080/"
        },
        "id": "lLCDS2BtcvlO",
        "outputId": "4d233554-a3bb-46ea-b7fc-0bd8d7ca454b"
      },
      "execution_count": 29,
      "outputs": [
        {
          "output_type": "stream",
          "name": "stdout",
          "text": [
            "Enter the number to be reversed :11211\n",
            "11211 is a Palindrome number\n"
          ]
        }
      ]
    },
    {
      "cell_type": "code",
      "source": [
        "# Checking if given number is an Armstrong number\n",
        "\n",
        "num1=int(input(\"Enter the number to be cecked if armstrong:\"))\n",
        "a = num1\n",
        "sum=0\n",
        "while a> 0:\n",
        "   rem =a % 10\n",
        "   sum += rem ** 3\n",
        "   a //= 10\n",
        "if num1 == sum:\n",
        "   print(num1,\"is an Armstrong number\")\n",
        "else:\n",
        "   print(num1,\"is not an Armstrong number\")"
      ],
      "metadata": {
        "colab": {
          "base_uri": "https://localhost:8080/"
        },
        "id": "Vtz7eXFRdhB_",
        "outputId": "f68407dc-ec13-4da6-9961-761561a4da88"
      },
      "execution_count": 30,
      "outputs": [
        {
          "output_type": "stream",
          "name": "stdout",
          "text": [
            "Enter the number to be cecked if armstrong:407\n",
            "407 is an Armstrong number\n"
          ]
        }
      ]
    },
    {
      "cell_type": "code",
      "source": [
        "# Printing Armstrong numbers in given range\n",
        "\n",
        "import math\n",
        "a=int(input(\"Enter the lower limit for the range:\"))\n",
        "b=int(input(\"Enter the upper limit for the range:\"))\n",
        "print(\"Armstrong numbers in given range: \")\n",
        "\n",
        "temp=0\n",
        "\n",
        "for i in range(a,b+1):\n",
        "  order = len(str(i))\n",
        "  sum = 0\n",
        "  temp=i\n",
        "  while (temp> 0):\n",
        "    rem = temp % 10\n",
        "    sum += rem ** order\n",
        "    temp //= 10\n",
        "  if (i == sum):\n",
        "    print(i)\n",
        "\n"
      ],
      "metadata": {
        "colab": {
          "base_uri": "https://localhost:8080/"
        },
        "id": "TRS7A7LveV8O",
        "outputId": "fe5d96a4-dcaa-428b-b932-62de066930cd"
      },
      "execution_count": 59,
      "outputs": [
        {
          "output_type": "stream",
          "name": "stdout",
          "text": [
            "Enter the lower limit for the range:20\n",
            "Enter the upper limit for the range:200\n",
            "Armstrong numbers in given range: \n",
            "153\n"
          ]
        }
      ]
    },
    {
      "cell_type": "code",
      "source": [
        "# Sum of First N Natural Numbers\n",
        "\n",
        "num1=int(input(\"Enter a number: \"))\n",
        "sum = 0\n",
        "while(num1 > 0):\n",
        "    sum=sum+num1\n",
        "    num1=num1-1\n",
        "print(\"The sum of first n natural numbers is\",sum)"
      ],
      "metadata": {
        "colab": {
          "base_uri": "https://localhost:8080/"
        },
        "id": "sLP0JVp6iifY",
        "outputId": "d25c3535-9faf-4b7c-b4f2-834427ac40ee"
      },
      "execution_count": 48,
      "outputs": [
        {
          "output_type": "stream",
          "name": "stdout",
          "text": [
            "Enter a number: 5\n",
            "The sum of first n natural numbers is 15\n"
          ]
        }
      ]
    },
    {
      "cell_type": "code",
      "source": [
        "# Finding the Factorial of a Number\n",
        "\n",
        "num1=int(input(\"Enter a number: \"))\n",
        "factorial = 1\n",
        "\n",
        "# check if the number is negative, positive or zero\n",
        "if num1 < 0:\n",
        "   print(\"Sorry, factorial doesn't exist for negative numbers\")\n",
        "elif num1 == 0:\n",
        "   print(\"The factorial of 0 is 1\")\n",
        "else:\n",
        "   for i in range(1,num1 + 1):\n",
        "       factorial = factorial*i\n",
        "   print(\"The factorial of\",num1 ,\"is\",factorial)\n"
      ],
      "metadata": {
        "colab": {
          "base_uri": "https://localhost:8080/"
        },
        "id": "R2oaxvCDjI_w",
        "outputId": "60a02e18-a01c-44c7-99da-1ee2fe77337b"
      },
      "execution_count": 50,
      "outputs": [
        {
          "output_type": "stream",
          "name": "stdout",
          "text": [
            "Enter a number: 5\n",
            "The factorial of 5 is 120\n"
          ]
        }
      ]
    },
    {
      "cell_type": "code",
      "source": [
        "# generate fibonacci sequence\n",
        "\n",
        "num1=int(input(\"Enter a number: \"))\n",
        "n1,n2=0,1\n",
        "count=0\n",
        "\n",
        "print(\"Fibonacci sequence upto\",num1,\":\")\n",
        "\n",
        "\n",
        "while count < num1:\n",
        "  print(n1)\n",
        "  nth = n1 + n2\n",
        "  n1 = n2\n",
        "  n2 = nth\n",
        "  count += 1"
      ],
      "metadata": {
        "colab": {
          "base_uri": "https://localhost:8080/"
        },
        "id": "cLRh2u5Vj-Yx",
        "outputId": "803bfe50-7945-4987-feff-49c320ac3fa6"
      },
      "execution_count": 51,
      "outputs": [
        {
          "output_type": "stream",
          "name": "stdout",
          "text": [
            "Enter a number: 10\n",
            "Fibonacci sequence upto 10 :\n",
            "0\n",
            "Fibonacci sequence:\n",
            "0\n",
            "1\n",
            "1\n",
            "2\n",
            "3\n",
            "5\n",
            "8\n",
            "13\n",
            "21\n",
            "34\n"
          ]
        }
      ]
    },
    {
      "cell_type": "code",
      "source": [
        "# Checking if the year is a leap year or not \n",
        "\n",
        "year = int(input(\"Enter a year: \"))\n",
        "\n",
        "if (year % 4 == 0):\n",
        "    if (year % 100 == 0):\n",
        "        if (year % 400 == 0):\n",
        "            print(year, \"is a leap year\")\n",
        "        else:\n",
        "            print(year, \"is not a leap year\")\n",
        "    else:\n",
        "        print(year, \"is a leap year\")\n",
        "else:\n",
        "    print(year, \"is not a leap year\")"
      ],
      "metadata": {
        "colab": {
          "base_uri": "https://localhost:8080/"
        },
        "id": "mf-kVI3VnfEh",
        "outputId": "16bfff45-b193-4ef4-ef08-9bb2d04ff421"
      },
      "execution_count": 60,
      "outputs": [
        {
          "output_type": "stream",
          "name": "stdout",
          "text": [
            "Enter a year: 2000\n",
            "2000 is a leap year\n"
          ]
        }
      ]
    },
    {
      "cell_type": "code",
      "source": [
        "# Fahrenheit to Celsius conversion function\n",
        "def fahrenheit_to_celsius(fahrenheit):\n",
        "    celsius = (fahrenheit - 32) * 5/9\n",
        "    return celsius\n",
        "\n",
        "# Celsius to Fahrenheit conversion function\n",
        "def celsius_to_fahrenheit(celsius):\n",
        "    fahrenheit = (celsius * 9/5) + 32\n",
        "    return fahrenheit\n",
        "\n",
        "fahrenheit = 77\n",
        "celsius = fahrenheit_to_celsius(fahrenheit)\n",
        "print(fahrenheit, \"F = \", celsius, \"C\")\n",
        "\n",
        "# Convert Celsius to Fahrenheit\n",
        "celsius = 25\n",
        "fahrenheit = celsius_to_fahrenheit(celsius)\n",
        "print(celsius, \"C = \", fahrenheit, \"F\")"
      ],
      "metadata": {
        "colab": {
          "base_uri": "https://localhost:8080/"
        },
        "id": "r494JHwxn4JM",
        "outputId": "3e96ab85-4703-4f7d-b790-735ea184c3ab"
      },
      "execution_count": 61,
      "outputs": [
        {
          "output_type": "stream",
          "name": "stdout",
          "text": [
            "77 F =  25.0 C\n",
            "25 C =  77.0 F\n"
          ]
        }
      ]
    },
    {
      "cell_type": "code",
      "source": [
        "# Printing all the factors of the given number in python\n",
        "\n",
        "def print_factors(num):\n",
        "    print(\"Factors of\", num, \"are:\")\n",
        "    for i in range(1, num+1):\n",
        "        if num % i == 0:\n",
        "            print(i)\n",
        "num = 20\n",
        "print_factors(num)"
      ],
      "metadata": {
        "colab": {
          "base_uri": "https://localhost:8080/"
        },
        "id": "sBGk_S-KoUqY",
        "outputId": "75a244e1-4a8c-4f35-f9ca-91db93229ceb"
      },
      "execution_count": 62,
      "outputs": [
        {
          "output_type": "stream",
          "name": "stdout",
          "text": [
            "Factors of 20 are:\n",
            "1\n",
            "2\n",
            "4\n",
            "5\n",
            "10\n",
            "20\n"
          ]
        }
      ]
    },
    {
      "cell_type": "code",
      "source": [
        "# Converting decimal to binary , octal and hexadecimal using library function\n",
        "\n",
        "dec = 100\n",
        "binary = bin(dec)\n",
        "print(\"The binary equivalent of\", dec, \"is\", binary)\n",
        "octal = oct(dec)\n",
        "print(\"The octal equivalent of\", dec, \"is\", octal)\n",
        "hexadecimal = hex(dec)\n",
        "print(\"The hexadecimal equivalent of\", dec, \"is\", hexadecimal)"
      ],
      "metadata": {
        "colab": {
          "base_uri": "https://localhost:8080/"
        },
        "id": "C1S69BNuozEg",
        "outputId": "f1ce9a0a-65d2-4254-932e-9a26d70c408e"
      },
      "execution_count": 63,
      "outputs": [
        {
          "output_type": "stream",
          "name": "stdout",
          "text": [
            "The binary equivalent of 100 is 0b1100100\n",
            "The octal equivalent of 100 is 0o144\n",
            "The hexadecimal equivalent of 100 is 0x64\n"
          ]
        }
      ]
    },
    {
      "cell_type": "code",
      "source": [
        "# Finding factorial of a number using function\n",
        "\n",
        "def factorial(n):\n",
        "    if n == 0:\n",
        "        return 1\n",
        "    else:\n",
        "        return n * factorial(n-1)\n",
        "num = 5\n",
        "fact = factorial(num)\n",
        "print(\"Factorial of\", num, \"is\", fact)"
      ],
      "metadata": {
        "colab": {
          "base_uri": "https://localhost:8080/"
        },
        "id": "ADZ_lb2FpO5h",
        "outputId": "5f8c31b4-5a07-4b55-c938-5442702b39a9"
      },
      "execution_count": 64,
      "outputs": [
        {
          "output_type": "stream",
          "name": "stdout",
          "text": [
            "Factorial of 5 is 120\n"
          ]
        }
      ]
    },
    {
      "cell_type": "code",
      "source": [
        "#fibonacci using recusion in python\n",
        "\n",
        "def fibonacci(n):\n",
        "    if n <= 1:\n",
        "        return n\n",
        "    else:\n",
        "        return fibonacci(n-1) + fibonacci(n-2)\n",
        "num_terms = 10\n",
        "\n",
        "# generate Fibonacci sequence\n",
        "fib_sequence = [fibonacci(i) for i in range(num_terms)]\n",
        "\n",
        "# print sequence\n",
        "print(\"Fibonacci sequence:\")\n",
        "for num in fib_sequence:\n",
        "    print(num)"
      ],
      "metadata": {
        "colab": {
          "base_uri": "https://localhost:8080/"
        },
        "id": "IX5ykvUfpiIx",
        "outputId": "ca652261-f074-4462-f671-faf02af2b3ed"
      },
      "execution_count": 65,
      "outputs": [
        {
          "output_type": "stream",
          "name": "stdout",
          "text": [
            "Fibonacci sequence:\n",
            "0\n",
            "1\n",
            "1\n",
            "2\n",
            "3\n",
            "5\n",
            "8\n",
            "13\n",
            "21\n",
            "34\n"
          ]
        }
      ]
    },
    {
      "cell_type": "code",
      "source": [
        "# Factorial using recursion\n",
        "\n",
        "def factorial(n):\n",
        "    if n == 0:\n",
        "        return 1\n",
        "    else:\n",
        "        return n * factorial(n-1)\n",
        "num = 5\n",
        "fact = factorial(num)\n",
        "print(\"Factorial of\", num, \"is\", fact)"
      ],
      "metadata": {
        "colab": {
          "base_uri": "https://localhost:8080/"
        },
        "id": "2SYeGArDp__h",
        "outputId": "a4e40fa4-8db1-4072-a25e-056d98e8e646"
      },
      "execution_count": 66,
      "outputs": [
        {
          "output_type": "stream",
          "name": "stdout",
          "text": [
            "Factorial of 5 is 120\n"
          ]
        }
      ]
    },
    {
      "cell_type": "code",
      "source": [
        "# First n natural numbers using recursion\n",
        "\n",
        "def print_natural_numbers(n):\n",
        "    if n > 0:\n",
        "        print_natural_numbers(n-1)\n",
        "        print(n, end=' ')\n",
        "num = 10\n",
        "print(\"First\", num, \"natural numbers:\")\n",
        "print_natural_numbers(num)"
      ],
      "metadata": {
        "colab": {
          "base_uri": "https://localhost:8080/"
        },
        "id": "8IiRU04BqP1J",
        "outputId": "3bc137df-eb67-4350-d321-894b85d24258"
      },
      "execution_count": 67,
      "outputs": [
        {
          "output_type": "stream",
          "name": "stdout",
          "text": [
            "First 10 natural numbers:\n",
            "1 2 3 4 5 6 7 8 9 10 "
          ]
        }
      ]
    },
    {
      "cell_type": "code",
      "source": [
        "# Converting decimal number to binary number using recursion\n",
        "\n",
        "def decimal_to_binary(n):\n",
        "    if n > 1:\n",
        "        decimal_to_binary(n//2)\n",
        "    print(n % 2, end='')\n",
        "num = 19\n",
        "print(\"Binary representation of\", num, \"is\", end=' ')\n",
        "decimal_to_binary(num)"
      ],
      "metadata": {
        "colab": {
          "base_uri": "https://localhost:8080/"
        },
        "id": "_F0MqboHqjaJ",
        "outputId": "395535d8-f2b3-4a78-cb66-a22e705dcd99"
      },
      "execution_count": 68,
      "outputs": [
        {
          "output_type": "stream",
          "name": "stdout",
          "text": [
            "Binary representation of 19 is 10011"
          ]
        }
      ]
    },
    {
      "cell_type": "code",
      "source": [
        "# Program to display powers of 2 using anonymous function\n",
        "\n",
        "num = 10\n",
        "\n",
        "# using lambda function to calculate powers of 2\n",
        "power_of_2 = lambda x: 2 ** x\n",
        "\n",
        "# printing powers of 2 using anonymous function\n",
        "print(\"Powers of 2 from 0 to\", num)\n",
        "for i in range(num+1):\n",
        "    print(power_of_2(i), end=' ')"
      ],
      "metadata": {
        "colab": {
          "base_uri": "https://localhost:8080/"
        },
        "id": "lgeQzrifq5f5",
        "outputId": "f19a647e-1c4b-4fb5-d832-9d83070aa3e3"
      },
      "execution_count": 69,
      "outputs": [
        {
          "output_type": "stream",
          "name": "stdout",
          "text": [
            "Powers of 2 from 0 to 10\n",
            "1 2 4 8 16 32 64 128 256 512 1024 "
          ]
        }
      ]
    },
    {
      "cell_type": "code",
      "source": [
        "# Finding area of tringle cylinder circle using lambda function\n",
        " \n",
        " # lambda function to calculate area of triangle\n",
        "area_triangle = lambda base, height: 0.5 * base * height\n",
        "\n",
        "# lambda function to calculate area of cylinder\n",
        "area_cylinder = lambda radius, height: 2 * 3.14 * radius * (radius + height)\n",
        "\n",
        "# lambda function to calculate area of circle\n",
        "area_circle = lambda radius: 3.14 * radius ** 2\n",
        "\n",
        "# example usage of lambda functions\n",
        "base = 10\n",
        "height = 5\n",
        "radius = 3\n",
        "cylinder_height = 8\n",
        "\n",
        "print(\"Area of triangle with base\", base, \"and height\", height, \"is\", area_triangle(base, height))\n",
        "print(\"Area of cylinder with radius\", radius, \"and height\", cylinder_height, \"is\", area_cylinder(radius, cylinder_height))\n",
        "print(\"Area of circle with radius\", radius, \"is\", area_circle(radius))\n",
        "\n",
        "\n"
      ],
      "metadata": {
        "colab": {
          "base_uri": "https://localhost:8080/"
        },
        "id": "vZ_h4iGrrl4S",
        "outputId": "96ad2521-d76c-472d-8226-f4c7e9149f87"
      },
      "execution_count": 70,
      "outputs": [
        {
          "output_type": "stream",
          "name": "stdout",
          "text": [
            "Area of triangle with base 10 and height 5 is 25.0\n",
            "Area of cylinder with radius 3 and height 8 is 207.24\n",
            "Area of circle with radius 3 is 28.26\n"
          ]
        }
      ]
    },
    {
      "cell_type": "code",
      "source": [
        "# Adding two matrices\n",
        "\n",
        "# input matrices\n",
        "matrix1 = [[1, 2, 3], [4, 5, 6], [7, 8, 9]]\n",
        "matrix2 = [[9, 8, 7], [6, 5, 4], [3, 2, 1]]\n",
        "\n",
        "# initialize result matrix with zeros of same size as input matrices\n",
        "result = [[0, 0, 0], [0, 0, 0], [0, 0, 0]]\n",
        "\n",
        "# add corresponding elements of input matrices and store in result matrix\n",
        "for i in range(len(matrix1)):\n",
        "    for j in range(len(matrix1[0])):\n",
        "        result[i][j] = matrix1[i][j] + matrix2[i][j]\n",
        "\n",
        "# print result matrix\n",
        "print(\"Result of matrix addition:\")\n",
        "for row in result:\n",
        "    print(row)\n"
      ],
      "metadata": {
        "colab": {
          "base_uri": "https://localhost:8080/"
        },
        "id": "NjYW0jovrvzC",
        "outputId": "753de33e-323f-44dd-fce2-c9ccc62b2089"
      },
      "execution_count": 71,
      "outputs": [
        {
          "output_type": "stream",
          "name": "stdout",
          "text": [
            "Result of matrix addition:\n",
            "[10, 10, 10]\n",
            "[10, 10, 10]\n",
            "[10, 10, 10]\n"
          ]
        }
      ]
    },
    {
      "cell_type": "code",
      "source": [
        "# Multiplication of two matrices\n",
        "\n",
        "# input matrices\n",
        "matrix1 = [[1, 2, 3], [4, 5, 6], [7, 8, 9]]\n",
        "matrix2 = [[9, 8, 7], [6, 5, 4], [3, 2, 1]]\n",
        "\n",
        "# initialize result matrix with zeros\n",
        "result = [[0, 0, 0], [0, 0, 0], [0, 0, 0]]\n",
        "\n",
        "# iterate over rows of matrix1\n",
        "for i in range(len(matrix1)):\n",
        "    # iterate over columns of matrix2\n",
        "    for j in range(len(matrix2[0])):\n",
        "        # iterate over rows of matrix2\n",
        "        for k in range(len(matrix2)):\n",
        "            # calculate element of result matrix\n",
        "            result[i][j] += matrix1[i][k] * matrix2[k][j]\n",
        "\n",
        "# print result matrix\n",
        "print(\"Result of matrix multiplication:\")\n",
        "for row in result:\n",
        "    print(row)\n"
      ],
      "metadata": {
        "colab": {
          "base_uri": "https://localhost:8080/"
        },
        "id": "BF0rZjcar7ui",
        "outputId": "6957f3fc-b5bb-437c-c498-899583341a2c"
      },
      "execution_count": 72,
      "outputs": [
        {
          "output_type": "stream",
          "name": "stdout",
          "text": [
            "Result of matrix multiplication:\n",
            "[30, 24, 18]\n",
            "[84, 69, 54]\n",
            "[138, 114, 90]\n"
          ]
        }
      ]
    },
    {
      "cell_type": "code",
      "source": [
        "# Transpose of matrix\n",
        "\n",
        "matrix = [[1, 2, 3], [4, 5, 6], [7, 8, 9]]\n",
        "\n",
        "result = [[0, 0, 0], [0, 0, 0], [0, 0, 0]]\n",
        "\n",
        "for i in range(len(matrix)):\n",
        "    for j in range(len(matrix[0])):\n",
        "    \n",
        "        result[j][i] = matrix[i][j]\n",
        "\n",
        "print(\"Result of matrix transposition:\")\n",
        "for row in result:\n",
        "    print(row)\n"
      ],
      "metadata": {
        "colab": {
          "base_uri": "https://localhost:8080/"
        },
        "id": "rntpeCUasRzq",
        "outputId": "572a38e8-1ddc-41e2-f69b-ae8d3c20faec"
      },
      "execution_count": 73,
      "outputs": [
        {
          "output_type": "stream",
          "name": "stdout",
          "text": [
            "Result of matrix transposition:\n",
            "[1, 4, 7]\n",
            "[2, 5, 8]\n",
            "[3, 6, 9]\n"
          ]
        }
      ]
    },
    {
      "cell_type": "code",
      "source": [
        "# Average of numeric list\n",
        "\n",
        "\n",
        "numbers = [10, 20, 30, 40, 50]\n",
        "\n",
        "sum = 0\n",
        "for num in numbers:\n",
        "    sum += num\n",
        "\n",
        "average = sum / len(numbers)\n",
        "\n",
        "print(\"Average of the list:\", average)\n"
      ],
      "metadata": {
        "colab": {
          "base_uri": "https://localhost:8080/"
        },
        "id": "LHBCVBhusjza",
        "outputId": "aa6321d9-db5d-4b46-e025-e909621f3c5b"
      },
      "execution_count": 74,
      "outputs": [
        {
          "output_type": "stream",
          "name": "stdout",
          "text": [
            "Average of the list: 30.0\n"
          ]
        }
      ]
    },
    {
      "cell_type": "code",
      "source": [
        "# Using different variations of slicing operations\n",
        "\n",
        "print(\"Basic slicing:\")\n",
        "my_list = [1, 2, 3, 4, 5]\n",
        "result = my_list[0:3]\n",
        "print(result)  # Output: [1, 2, 3]\n",
        "\n",
        "print(\"Extended slicing:\")\n",
        "my_list = [1, 2, 3, 4, 5]\n",
        "result = my_list[::2]\n",
        "print(result)  # Output: [1, 3, 5]\n",
        "\n",
        "print(\"Negative slicing:\")\n",
        "my_list = [1, 2, 3, 4, 5]\n",
        "result = my_list[-3:]\n",
        "print(result)  # Output: [3, 4, 5]\n",
        "\n",
        "print(\"Reversed slicing:\")\n",
        "my_list = [1, 2, 3, 4, 5]\n",
        "result = my_list[-1:-4:-1]\n",
        "print(result)  # Output: [5, 4, 3]\n",
        "\n",
        "print(\"Step  slicing:\")\n",
        "my_list = [1, 2, 3, 4, 5, 6, 7, 8, 9]\n",
        "result = my_list[1::3]\n",
        "print(result)  # Output: [2, 5, 8]\n"
      ],
      "metadata": {
        "colab": {
          "base_uri": "https://localhost:8080/"
        },
        "id": "GOs8IVe6sv8y",
        "outputId": "002f6cdb-2281-4037-a062-afe38e92ff0e"
      },
      "execution_count": 75,
      "outputs": [
        {
          "output_type": "stream",
          "name": "stdout",
          "text": [
            "Basic slicing:\n",
            "[1, 2, 3]\n",
            "Extended slicing:\n",
            "[1, 3, 5]\n",
            "Negative slicing:\n",
            "[3, 4, 5]\n",
            "Reversed slicing:\n",
            "[5, 4, 3]\n",
            "Step  slicing:\n",
            "[2, 5, 8]\n"
          ]
        }
      ]
    },
    {
      "cell_type": "code",
      "source": [
        "# Concatrnate two lists\n",
        "\n",
        "list1 = [1, 2, 3]\n",
        "list2 = [4, 5, 6]\n",
        "concatenated_list = list1 + list2\n",
        "print(concatenated_list)\n"
      ],
      "metadata": {
        "colab": {
          "base_uri": "https://localhost:8080/"
        },
        "id": "Kxyo-F99t2wy",
        "outputId": "85ef0c43-4310-4b27-a8b5-947c87778dad"
      },
      "execution_count": 76,
      "outputs": [
        {
          "output_type": "stream",
          "name": "stdout",
          "text": [
            "[1, 2, 3, 4, 5, 6]\n"
          ]
        }
      ]
    },
    {
      "cell_type": "code",
      "source": [
        "# Finding index and no of appearances of a given number in the numeric list\n",
        "\n",
        "my_list = [1, 2, 3, 4, 1, 2, 1, 4, 5]\n",
        "element = 1\n",
        "\n",
        "# Finding the index of the first occurrence of the element\n",
        "index = my_list.index(element)\n",
        "print(f\"The index of the first occurrence of {element} is {index}\")\n",
        "\n",
        "# Finding the number of appearances of the element\n",
        "count = my_list.count(element)\n",
        "print(f\"The element {element} appears {count} times in the list\")\n"
      ],
      "metadata": {
        "colab": {
          "base_uri": "https://localhost:8080/"
        },
        "id": "8b-9a7WwuPej",
        "outputId": "b69aa554-3860-47b4-efa2-4bea665d35f7"
      },
      "execution_count": 77,
      "outputs": [
        {
          "output_type": "stream",
          "name": "stdout",
          "text": [
            "The index of the first occurrence of 1 is 0\n",
            "The element 1 appears 3 times in the list\n"
          ]
        }
      ]
    },
    {
      "cell_type": "code",
      "source": [
        "# Identify duplicates in the list\n",
        "\n",
        "my_list = [1, 2, 3, 4, 1, 2, 1, 4, 5]\n",
        "duplicates = []\n",
        "\n",
        "for i in my_list:\n",
        "    if my_list.count(i) > 1 and i not in duplicates:\n",
        "        duplicates.append(i)\n",
        "\n",
        "print(\"The duplicates in the list are: \", duplicates)\n"
      ],
      "metadata": {
        "colab": {
          "base_uri": "https://localhost:8080/"
        },
        "id": "OJFdgKSAufY6",
        "outputId": "e69f4893-58e7-47ee-8437-f4b27d1b847e"
      },
      "execution_count": 79,
      "outputs": [
        {
          "output_type": "stream",
          "name": "stdout",
          "text": [
            "The duplicates in the list are:  [1, 2, 4]\n"
          ]
        }
      ]
    },
    {
      "cell_type": "code",
      "source": [
        "# Program to iterate over dictionary using loop. Print all the keys, values, items with and without using built in functions\n",
        "\n",
        "my_dict = {\"apple\": 5, \"banana\": 10, \"orange\": 7}\n",
        "\n",
        "# Using a for loop to print all the keys in the dictionary\n",
        "print(\"Keys:\")\n",
        "for key in my_dict:\n",
        "    print(key)\n",
        "\n",
        "# Using a for loop to print all the values in the dictionary\n",
        "print(\"\\nValues:\")\n",
        "for key in my_dict:\n",
        "    print(my_dict[key])\n",
        "\n",
        "# Using a for loop to print all the items in the dictionary\n",
        "print(\"\\nItems:\")\n",
        "for key in my_dict:\n",
        "    print(key, my_dict[key])\n",
        "\n",
        "# Using built-in functions to print all the keys, values, and items in the dictionary\n",
        "print(\"\\nKeys:\")\n",
        "print(my_dict.keys())\n",
        "\n",
        "print(\"\\nValues:\")\n",
        "print(my_dict.values())\n",
        "\n",
        "print(\"\\nItems:\")\n",
        "print(my_dict.items())\n"
      ],
      "metadata": {
        "colab": {
          "base_uri": "https://localhost:8080/"
        },
        "id": "ZoxxZkU9u19o",
        "outputId": "b94815e4-f796-43e5-b7c3-83f1d0823d31"
      },
      "execution_count": 80,
      "outputs": [
        {
          "output_type": "stream",
          "name": "stdout",
          "text": [
            "Keys:\n",
            "apple\n",
            "banana\n",
            "orange\n",
            "\n",
            "Values:\n",
            "5\n",
            "10\n",
            "7\n",
            "\n",
            "Items:\n",
            "apple 5\n",
            "banana 10\n",
            "orange 7\n",
            "\n",
            "Keys:\n",
            "dict_keys(['apple', 'banana', 'orange'])\n",
            "\n",
            "Values:\n",
            "dict_values([5, 10, 7])\n",
            "\n",
            "Items:\n",
            "dict_items([('apple', 5), ('banana', 10), ('orange', 7)])\n"
          ]
        }
      ]
    },
    {
      "cell_type": "code",
      "source": [
        "# Illustrate nested dictionary\n",
        "\n",
        "employee_data = {\n",
        "    \"Alice\": {\n",
        "        \"age\": 25,\n",
        "        \"department\": \"Sales\",\n",
        "        \"salary\": 50000\n",
        "    },\n",
        "    \"Bob\": {\n",
        "        \"age\": 30,\n",
        "        \"department\": \"Marketing\",\n",
        "        \"salary\": 60000\n",
        "    },\n",
        "    \"Charlie\": {\n",
        "        \"age\": 35,\n",
        "        \"department\": \"Operations\",\n",
        "        \"salary\": 70000\n",
        "    }\n",
        "}\n",
        "for name, data in employee_data.items():\n",
        "    print(name)\n",
        "    for key, value in data.items():\n",
        "        print(key, value)\n",
        "    print()"
      ],
      "metadata": {
        "colab": {
          "base_uri": "https://localhost:8080/"
        },
        "id": "CMWAiNdgvgMR",
        "outputId": "89d7a220-6a80-4a04-ff6e-9e135bc64e13"
      },
      "execution_count": 82,
      "outputs": [
        {
          "output_type": "stream",
          "name": "stdout",
          "text": [
            "Alice\n",
            "age 25\n",
            "department Sales\n",
            "salary 50000\n",
            "\n",
            "Bob\n",
            "age 30\n",
            "department Marketing\n",
            "salary 60000\n",
            "\n",
            "Charlie\n",
            "age 35\n",
            "department Operations\n",
            "salary 70000\n",
            "\n"
          ]
        }
      ]
    },
    {
      "cell_type": "code",
      "source": [
        "# Sorting Dictionary according to keys and according to values\n",
        "\n",
        "print(\"Sorting by keys:\")\n",
        "my_dict = {'a': 3, 'c': 1, 'b': 2}\n",
        "sorted_dict = dict(sorted(my_dict.items()))\n",
        "print(sorted_dict)  \n",
        "\n",
        "print (\"Sorting by values:\")\n",
        "sorted_dict = dict(sorted(my_dict.items(), key=lambda x: x[1]))\n",
        "print(sorted_dict)  \n",
        "\n",
        "print (\"Sorting in descending order:\")\n",
        "sorted_dict = dict(sorted(my_dict.items(), key=lambda x: x[1], reverse=True))\n",
        "print(sorted_dict)  "
      ],
      "metadata": {
        "colab": {
          "base_uri": "https://localhost:8080/"
        },
        "id": "gjRNG1y1vxwz",
        "outputId": "b1f97dcb-7d18-47aa-f026-b9b8db80011e"
      },
      "execution_count": 83,
      "outputs": [
        {
          "output_type": "stream",
          "name": "stdout",
          "text": [
            "Sorting by keys:\n",
            "{'a': 3, 'b': 2, 'c': 1}\n",
            "Sorting by values:\n",
            "{'c': 1, 'b': 2, 'a': 3}\n",
            "Sorting in descending order:\n",
            "{'a': 3, 'b': 2, 'c': 1}\n"
          ]
        }
      ]
    },
    {
      "cell_type": "code",
      "source": [
        "# Illustrate differnt set operations\n",
        "\n",
        "set1 = {1, 2, 3, 4}\n",
        "set2 = {3, 4, 5, 6}\n",
        "# Union:\n",
        "union_set = set1.union(set2)\n",
        "print(union_set)  # {1, 2, 3, 4, 5, 6}\n",
        "# Union alternate:\n",
        "union_set = set1 | set2\n",
        "print(union_set)  # {1, 2, 3, 4, 5, 6}\n",
        "\n",
        "# Intersection:\n",
        "intersection_set = set1.intersection(set2)\n",
        "print(intersection_set)  # {3, 4}\n",
        "# Intersection alternate:\n",
        "intersection_set = set1 & set2\n",
        "print(intersection_set)  # {3, 4}\n",
        "\n",
        "# Difference:\n",
        "difference_set = set1.difference(set2)\n",
        "print(difference_set)  # {1, 2}\n",
        "# Difference alternate:\n",
        "difference_set = set1 - set2\n",
        "print(difference_set)  # {1, 2}\n",
        "\n",
        "#Symmetric Difference:\n",
        "symmetric_difference_set = set1.symmetric_difference(set2)\n",
        "print(symmetric_difference_set)  # {1, 2, 5, 6}\n",
        "#Symmetric Difference alternate:\n",
        "symmetric_difference_set = set1 ^ set2\n",
        "print(symmetric_difference_set)  # {1, 2, 5, 6}\n",
        "\n",
        "# Subset:\n",
        "set1 = {1, 2, 3, 4}\n",
        "set2 = {1, 2}\n",
        "print(set2.issubset(set1))  # True\n",
        "# Subset alternate:\n",
        "print(set2 <= set1)  # True\n",
        "\n",
        "#Superset: \n",
        "print(set1.issuperset(set2))  # True\n",
        "#Superset alternate:\n",
        "print(set1 >= set2)  # True\n"
      ],
      "metadata": {
        "colab": {
          "base_uri": "https://localhost:8080/"
        },
        "id": "Mxigr3edwv-7",
        "outputId": "428e37e2-ee69-40c0-eef0-241ccb1eb881"
      },
      "execution_count": 84,
      "outputs": [
        {
          "output_type": "stream",
          "name": "stdout",
          "text": [
            "{1, 2, 3, 4, 5, 6}\n",
            "{1, 2, 3, 4, 5, 6}\n",
            "{3, 4}\n",
            "{3, 4}\n",
            "{1, 2}\n",
            "{1, 2}\n",
            "{1, 2, 5, 6}\n",
            "{1, 2, 5, 6}\n",
            "True\n",
            "True\n",
            "True\n",
            "True\n"
          ]
        }
      ]
    },
    {
      "cell_type": "code",
      "source": [
        "# Checking if string is palindrome or not\n",
        "\n",
        "def is_palindrome(s):\n",
        "    s = s.replace(\" \", \"\").lower() # remove whitespaces and convert to lowercase\n",
        "    return s == s[::-1] # check if reversed string is equal to original string\n",
        "\n",
        "print(is_palindrome(\"racecar\"))\n",
        "print(is_palindrome(\"hello world\"))\n",
        "print(is_palindrome(\"A man a plan a canal Panama\"))\n"
      ],
      "metadata": {
        "colab": {
          "base_uri": "https://localhost:8080/"
        },
        "id": "4-kWcsKcyW3-",
        "outputId": "43abbc1b-083e-488c-c20e-620ecea7d9c6"
      },
      "execution_count": 85,
      "outputs": [
        {
          "output_type": "stream",
          "name": "stdout",
          "text": [
            "True\n",
            "False\n",
            "True\n"
          ]
        }
      ]
    },
    {
      "cell_type": "code",
      "source": [
        "# Remove punchuation from string\n",
        "\n",
        "import string\n",
        "\n",
        "def remove_punctuation(s):\n",
        "    return \"\".join(c for c in s if c not in string.punctuation)\n",
        "\n",
        "\n",
        "s1 = \"Hello, World!\"\n",
        "s2 = \"Let's remove some punctuation!\"\n",
        "print(remove_punctuation(s1)) \n",
        "print(remove_punctuation(s2)) \n"
      ],
      "metadata": {
        "colab": {
          "base_uri": "https://localhost:8080/"
        },
        "id": "P5EK-e4jy0wU",
        "outputId": "28d4b549-3779-40a6-e79e-eebc0d30da46"
      },
      "execution_count": 86,
      "outputs": [
        {
          "output_type": "stream",
          "name": "stdout",
          "text": [
            "Hello World\n",
            "Lets remove some punctuation\n"
          ]
        }
      ]
    },
    {
      "cell_type": "code",
      "source": [
        "# Sorting words of string in alphabetical order\n",
        "\n",
        "def sort_words(s):\n",
        "    words = s.split() # split the string into a list of words\n",
        "    return \" \".join(sorted(words)) # sort the list of words and join them back into a string\n",
        "\n",
        "\n",
        "s = \"This is a test string to sort words in alphabetical order\"\n",
        "print(sort_words(s)) \n"
      ],
      "metadata": {
        "colab": {
          "base_uri": "https://localhost:8080/"
        },
        "id": "XAK0Z0TNzUQT",
        "outputId": "3851eb42-3f81-451f-e110-b758a1144d18"
      },
      "execution_count": 87,
      "outputs": [
        {
          "output_type": "stream",
          "name": "stdout",
          "text": [
            "This a alphabetical in is order sort string test to words\n"
          ]
        }
      ]
    },
    {
      "cell_type": "code",
      "source": [
        "# Counting no of vowels in the statement \n",
        "\n",
        "def count_vowels(s):\n",
        "    vowels = \"aeiouAEIOU\" \n",
        "    count = 0\n",
        "    for c in s:\n",
        "        if c in vowels:\n",
        "            count += 1\n",
        "    return count\n",
        "\n",
        "s = \"This is a test string to count vowels in Python\"\n",
        "print(count_vowels(s)) "
      ],
      "metadata": {
        "colab": {
          "base_uri": "https://localhost:8080/"
        },
        "id": "n0HzRfXJzwT0",
        "outputId": "7a42b7a4-6ed3-49cf-9b3a-78e75c7ee09f"
      },
      "execution_count": 88,
      "outputs": [
        {
          "output_type": "stream",
          "name": "stdout",
          "text": [
            "12\n"
          ]
        }
      ]
    },
    {
      "cell_type": "code",
      "source": [
        "# Checking if two strings are anagram or not\n",
        "\n",
        "def is_anagram(s1, s2):\n",
        "    s1 = s1.lower() \n",
        "    s2 = s2.lower()\n",
        "    s1_sorted = sorted(s1) \n",
        "    s2_sorted = sorted(s2)\n",
        "    return s1_sorted == s2_sorted \n",
        "\n",
        "s1 = \"listen\"\n",
        "s2 = \"silent\"\n",
        "print(is_anagram(s1, s2)) \n",
        "\n",
        "s1 = \"triangle\"\n",
        "s2 = \"integral\"\n",
        "print(is_anagram(s1, s2)) \n"
      ],
      "metadata": {
        "colab": {
          "base_uri": "https://localhost:8080/"
        },
        "id": "3ZsME7Xq0L1k",
        "outputId": "0739dbeb-3fe9-4bbb-8971-16932eaf5dbd"
      },
      "execution_count": 89,
      "outputs": [
        {
          "output_type": "stream",
          "name": "stdout",
          "text": [
            "True\n",
            "True\n"
          ]
        }
      ]
    },
    {
      "cell_type": "code",
      "source": [
        "# Counting occurances of each word in a sentence\n",
        "\n",
        "def count_words(sentence):\n",
        "    words = sentence.split() \n",
        "    counts = {} \n",
        "    for word in words:\n",
        "        if word in counts:\n",
        "            counts[word] += 1 \n",
        "        else:\n",
        "            counts[word] = 1 \n",
        "    return counts\n",
        "\n",
        "\n",
        "sentence = \"the quick brown fox jumps over the lazy dog\"\n",
        "counts = count_words(sentence)\n",
        "print(counts)\n"
      ],
      "metadata": {
        "colab": {
          "base_uri": "https://localhost:8080/"
        },
        "id": "hV4gOUsA0ydz",
        "outputId": "60390125-46da-4286-b640-0fea17a23eac"
      },
      "execution_count": 90,
      "outputs": [
        {
          "output_type": "stream",
          "name": "stdout",
          "text": [
            "{'the': 2, 'quick': 1, 'brown': 1, 'fox': 1, 'jumps': 1, 'over': 1, 'lazy': 1, 'dog': 1}\n"
          ]
        }
      ]
    },
    {
      "cell_type": "code",
      "source": [
        "# Reversing all the words of the sentence\n",
        "\n",
        "def reverse_words(sentence):\n",
        "    words = sentence.split() \n",
        "    reversed_words = [word[::-1] for word in words] \n",
        "    reversed_sentence = \" \".join(reversed_words) \n",
        "    return reversed_sentence\n",
        "\n",
        "sentence = \"the quick brown fox jumps over the lazy dog\"\n",
        "reversed_sentence = reverse_words(sentence)\n",
        "print(reversed_sentence) \n"
      ],
      "metadata": {
        "colab": {
          "base_uri": "https://localhost:8080/"
        },
        "id": "_9ma0RzT1Z-2",
        "outputId": "afbd931f-25c7-43a6-ec02-abc9beefeae2"
      },
      "execution_count": 91,
      "outputs": [
        {
          "output_type": "stream",
          "name": "stdout",
          "text": [
            "eht kciuq nworb xof spmuj revo eht yzal god\n"
          ]
        }
      ]
    }
  ]
}